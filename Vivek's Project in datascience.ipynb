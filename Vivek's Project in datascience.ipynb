{
 "cells": [
  {
   "cell_type": "markdown",
   "metadata": {},
   "source": [
    "# Project Introduction:\n",
    "### The given dataset represents Employee performance data from INX Future Inc.\n",
    "### Sufficient effort is made to clearly understand the goals of the analysis and target outcomes for INX Future Inc.\n",
    "### The approach is to first explore the dataset, decide appropriate treatement of the dataset and then address the four desired insights from this project.\n",
    "### 1. Department wise performances.\n",
    "### 2. Top 3 Important Factors effecting employee performance.\n",
    "### 3. A trained model which can predict the employee performance based on factors as inputs. This will be used to hire employees\n",
    "### 4. Recommendations to improve the employee performance based on insights from analysis."
   ]
  },
  {
   "cell_type": "markdown",
   "metadata": {},
   "source": [
    "### Submitted by : \n",
    "#### Name : Vivek Choudhury\n",
    "#### Institute: Datamites.\n",
    "#### Contact: +918494833332\n",
    "#### Email: vivek.choudhury112@gmail.com"
   ]
  },
  {
   "cell_type": "code",
   "execution_count": 195,
   "metadata": {},
   "outputs": [],
   "source": [
    "#Importing required libraries: Pandas, Numpy, Matplotlib and Seaborn.\n",
    "import numpy as np\n",
    "import pandas as pd\n",
    "import seaborn as sns\n",
    "import matplotlib.pyplot as plt"
   ]
  },
  {
   "cell_type": "code",
   "execution_count": 196,
   "metadata": {},
   "outputs": [],
   "source": [
    "#Reading CSV file\n",
    "data=pd.read_csv(\"INX_Future_Inc_Employee_Performance_CDS_Project2_Data_V1.8.csv\")"
   ]
  },
  {
   "cell_type": "code",
   "execution_count": 197,
   "metadata": {},
   "outputs": [
    {
     "data": {
      "text/plain": [
       "EmpNumber                       False\n",
       "Age                             False\n",
       "Gender                          False\n",
       "EducationBackground             False\n",
       "MaritalStatus                   False\n",
       "EmpDepartment                   False\n",
       "EmpJobRole                      False\n",
       "BusinessTravelFrequency         False\n",
       "DistanceFromHome                False\n",
       "EmpEducationLevel               False\n",
       "EmpEnvironmentSatisfaction      False\n",
       "EmpHourlyRate                   False\n",
       "EmpJobInvolvement               False\n",
       "EmpJobLevel                     False\n",
       "EmpJobSatisfaction              False\n",
       "NumCompaniesWorked              False\n",
       "OverTime                        False\n",
       "EmpLastSalaryHikePercent        False\n",
       "EmpRelationshipSatisfaction     False\n",
       "TotalWorkExperienceInYears      False\n",
       "TrainingTimesLastYear           False\n",
       "EmpWorkLifeBalance              False\n",
       "ExperienceYearsAtThisCompany    False\n",
       "ExperienceYearsInCurrentRole    False\n",
       "YearsSinceLastPromotion         False\n",
       "YearsWithCurrManager            False\n",
       "Attrition                       False\n",
       "PerformanceRating               False\n",
       "dtype: bool"
      ]
     },
     "execution_count": 197,
     "metadata": {},
     "output_type": "execute_result"
    }
   ],
   "source": [
    "#Checking if there are missing values.\n",
    "data.isnull().any()"
   ]
  },
  {
   "cell_type": "code",
   "execution_count": 198,
   "metadata": {},
   "outputs": [
    {
     "data": {
      "text/html": [
       "<div>\n",
       "<style scoped>\n",
       "    .dataframe tbody tr th:only-of-type {\n",
       "        vertical-align: middle;\n",
       "    }\n",
       "\n",
       "    .dataframe tbody tr th {\n",
       "        vertical-align: top;\n",
       "    }\n",
       "\n",
       "    .dataframe thead th {\n",
       "        text-align: right;\n",
       "    }\n",
       "</style>\n",
       "<table border=\"1\" class=\"dataframe\">\n",
       "  <thead>\n",
       "    <tr style=\"text-align: right;\">\n",
       "      <th></th>\n",
       "      <th>EmpNumber</th>\n",
       "      <th>Age</th>\n",
       "      <th>Gender</th>\n",
       "      <th>EducationBackground</th>\n",
       "      <th>MaritalStatus</th>\n",
       "      <th>EmpDepartment</th>\n",
       "      <th>EmpJobRole</th>\n",
       "      <th>BusinessTravelFrequency</th>\n",
       "      <th>DistanceFromHome</th>\n",
       "      <th>EmpEducationLevel</th>\n",
       "      <th>...</th>\n",
       "      <th>EmpRelationshipSatisfaction</th>\n",
       "      <th>TotalWorkExperienceInYears</th>\n",
       "      <th>TrainingTimesLastYear</th>\n",
       "      <th>EmpWorkLifeBalance</th>\n",
       "      <th>ExperienceYearsAtThisCompany</th>\n",
       "      <th>ExperienceYearsInCurrentRole</th>\n",
       "      <th>YearsSinceLastPromotion</th>\n",
       "      <th>YearsWithCurrManager</th>\n",
       "      <th>Attrition</th>\n",
       "      <th>PerformanceRating</th>\n",
       "    </tr>\n",
       "  </thead>\n",
       "  <tbody>\n",
       "    <tr>\n",
       "      <th>0</th>\n",
       "      <td>E1001000</td>\n",
       "      <td>32</td>\n",
       "      <td>Male</td>\n",
       "      <td>Marketing</td>\n",
       "      <td>Single</td>\n",
       "      <td>Sales</td>\n",
       "      <td>Sales Executive</td>\n",
       "      <td>Travel_Rarely</td>\n",
       "      <td>10</td>\n",
       "      <td>3</td>\n",
       "      <td>...</td>\n",
       "      <td>4</td>\n",
       "      <td>10</td>\n",
       "      <td>2</td>\n",
       "      <td>2</td>\n",
       "      <td>10</td>\n",
       "      <td>7</td>\n",
       "      <td>0</td>\n",
       "      <td>8</td>\n",
       "      <td>No</td>\n",
       "      <td>3</td>\n",
       "    </tr>\n",
       "    <tr>\n",
       "      <th>1</th>\n",
       "      <td>E1001006</td>\n",
       "      <td>47</td>\n",
       "      <td>Male</td>\n",
       "      <td>Marketing</td>\n",
       "      <td>Single</td>\n",
       "      <td>Sales</td>\n",
       "      <td>Sales Executive</td>\n",
       "      <td>Travel_Rarely</td>\n",
       "      <td>14</td>\n",
       "      <td>4</td>\n",
       "      <td>...</td>\n",
       "      <td>4</td>\n",
       "      <td>20</td>\n",
       "      <td>2</td>\n",
       "      <td>3</td>\n",
       "      <td>7</td>\n",
       "      <td>7</td>\n",
       "      <td>1</td>\n",
       "      <td>7</td>\n",
       "      <td>No</td>\n",
       "      <td>3</td>\n",
       "    </tr>\n",
       "    <tr>\n",
       "      <th>2</th>\n",
       "      <td>E1001007</td>\n",
       "      <td>40</td>\n",
       "      <td>Male</td>\n",
       "      <td>Life Sciences</td>\n",
       "      <td>Married</td>\n",
       "      <td>Sales</td>\n",
       "      <td>Sales Executive</td>\n",
       "      <td>Travel_Frequently</td>\n",
       "      <td>5</td>\n",
       "      <td>4</td>\n",
       "      <td>...</td>\n",
       "      <td>3</td>\n",
       "      <td>20</td>\n",
       "      <td>2</td>\n",
       "      <td>3</td>\n",
       "      <td>18</td>\n",
       "      <td>13</td>\n",
       "      <td>1</td>\n",
       "      <td>12</td>\n",
       "      <td>No</td>\n",
       "      <td>4</td>\n",
       "    </tr>\n",
       "    <tr>\n",
       "      <th>3</th>\n",
       "      <td>E1001009</td>\n",
       "      <td>41</td>\n",
       "      <td>Male</td>\n",
       "      <td>Human Resources</td>\n",
       "      <td>Divorced</td>\n",
       "      <td>Human Resources</td>\n",
       "      <td>Manager</td>\n",
       "      <td>Travel_Rarely</td>\n",
       "      <td>10</td>\n",
       "      <td>4</td>\n",
       "      <td>...</td>\n",
       "      <td>2</td>\n",
       "      <td>23</td>\n",
       "      <td>2</td>\n",
       "      <td>2</td>\n",
       "      <td>21</td>\n",
       "      <td>6</td>\n",
       "      <td>12</td>\n",
       "      <td>6</td>\n",
       "      <td>No</td>\n",
       "      <td>3</td>\n",
       "    </tr>\n",
       "    <tr>\n",
       "      <th>4</th>\n",
       "      <td>E1001010</td>\n",
       "      <td>60</td>\n",
       "      <td>Male</td>\n",
       "      <td>Marketing</td>\n",
       "      <td>Single</td>\n",
       "      <td>Sales</td>\n",
       "      <td>Sales Executive</td>\n",
       "      <td>Travel_Rarely</td>\n",
       "      <td>16</td>\n",
       "      <td>4</td>\n",
       "      <td>...</td>\n",
       "      <td>4</td>\n",
       "      <td>10</td>\n",
       "      <td>1</td>\n",
       "      <td>3</td>\n",
       "      <td>2</td>\n",
       "      <td>2</td>\n",
       "      <td>2</td>\n",
       "      <td>2</td>\n",
       "      <td>No</td>\n",
       "      <td>3</td>\n",
       "    </tr>\n",
       "  </tbody>\n",
       "</table>\n",
       "<p>5 rows × 28 columns</p>\n",
       "</div>"
      ],
      "text/plain": [
       "  EmpNumber  Age Gender EducationBackground MaritalStatus    EmpDepartment  \\\n",
       "0  E1001000   32   Male           Marketing        Single            Sales   \n",
       "1  E1001006   47   Male           Marketing        Single            Sales   \n",
       "2  E1001007   40   Male       Life Sciences       Married            Sales   \n",
       "3  E1001009   41   Male     Human Resources      Divorced  Human Resources   \n",
       "4  E1001010   60   Male           Marketing        Single            Sales   \n",
       "\n",
       "        EmpJobRole BusinessTravelFrequency  DistanceFromHome  \\\n",
       "0  Sales Executive           Travel_Rarely                10   \n",
       "1  Sales Executive           Travel_Rarely                14   \n",
       "2  Sales Executive       Travel_Frequently                 5   \n",
       "3          Manager           Travel_Rarely                10   \n",
       "4  Sales Executive           Travel_Rarely                16   \n",
       "\n",
       "   EmpEducationLevel        ...          EmpRelationshipSatisfaction  \\\n",
       "0                  3        ...                                    4   \n",
       "1                  4        ...                                    4   \n",
       "2                  4        ...                                    3   \n",
       "3                  4        ...                                    2   \n",
       "4                  4        ...                                    4   \n",
       "\n",
       "   TotalWorkExperienceInYears  TrainingTimesLastYear  EmpWorkLifeBalance  \\\n",
       "0                          10                      2                   2   \n",
       "1                          20                      2                   3   \n",
       "2                          20                      2                   3   \n",
       "3                          23                      2                   2   \n",
       "4                          10                      1                   3   \n",
       "\n",
       "   ExperienceYearsAtThisCompany  ExperienceYearsInCurrentRole  \\\n",
       "0                            10                             7   \n",
       "1                             7                             7   \n",
       "2                            18                            13   \n",
       "3                            21                             6   \n",
       "4                             2                             2   \n",
       "\n",
       "  YearsSinceLastPromotion  YearsWithCurrManager  Attrition  PerformanceRating  \n",
       "0                       0                     8         No                  3  \n",
       "1                       1                     7         No                  3  \n",
       "2                       1                    12         No                  4  \n",
       "3                      12                     6         No                  3  \n",
       "4                       2                     2         No                  3  \n",
       "\n",
       "[5 rows x 28 columns]"
      ]
     },
     "execution_count": 198,
     "metadata": {},
     "output_type": "execute_result"
    }
   ],
   "source": [
    "# Visualizing first five records of the dataset.\n",
    "data.head()"
   ]
  },
  {
   "cell_type": "code",
   "execution_count": 199,
   "metadata": {},
   "outputs": [
    {
     "data": {
      "text/plain": [
       "(1200, 28)"
      ]
     },
     "execution_count": 199,
     "metadata": {},
     "output_type": "execute_result"
    }
   ],
   "source": [
    "# Checking dimensions of the dataset, rows x columns.\n",
    "data.shape"
   ]
  },
  {
   "cell_type": "code",
   "execution_count": 200,
   "metadata": {},
   "outputs": [
    {
     "data": {
      "text/plain": [
       "EmpNumber                       object\n",
       "Age                              int64\n",
       "Gender                          object\n",
       "EducationBackground             object\n",
       "MaritalStatus                   object\n",
       "EmpDepartment                   object\n",
       "EmpJobRole                      object\n",
       "BusinessTravelFrequency         object\n",
       "DistanceFromHome                 int64\n",
       "EmpEducationLevel                int64\n",
       "EmpEnvironmentSatisfaction       int64\n",
       "EmpHourlyRate                    int64\n",
       "EmpJobInvolvement                int64\n",
       "EmpJobLevel                      int64\n",
       "EmpJobSatisfaction               int64\n",
       "NumCompaniesWorked               int64\n",
       "OverTime                        object\n",
       "EmpLastSalaryHikePercent         int64\n",
       "EmpRelationshipSatisfaction      int64\n",
       "TotalWorkExperienceInYears       int64\n",
       "TrainingTimesLastYear            int64\n",
       "EmpWorkLifeBalance               int64\n",
       "ExperienceYearsAtThisCompany     int64\n",
       "ExperienceYearsInCurrentRole     int64\n",
       "YearsSinceLastPromotion          int64\n",
       "YearsWithCurrManager             int64\n",
       "Attrition                       object\n",
       "PerformanceRating                int64\n",
       "dtype: object"
      ]
     },
     "execution_count": 200,
     "metadata": {},
     "output_type": "execute_result"
    }
   ],
   "source": [
    "# Checking datatype.\n",
    "data.dtypes"
   ]
  },
  {
   "cell_type": "code",
   "execution_count": 201,
   "metadata": {},
   "outputs": [
    {
     "name": "stdout",
     "output_type": "stream",
     "text": [
      "EmpNumber\n",
      "Gender\n",
      "EducationBackground\n",
      "MaritalStatus\n",
      "EmpDepartment\n",
      "EmpJobRole\n",
      "BusinessTravelFrequency\n",
      "OverTime\n",
      "Attrition\n"
     ]
    }
   ],
   "source": [
    "#displaying categorical features\n",
    "for features , datatype in zip(data.columns , data.dtypes):\n",
    "    if datatype == 'object':\n",
    "        print(features)"
   ]
  },
  {
   "cell_type": "code",
   "execution_count": 202,
   "metadata": {},
   "outputs": [
    {
     "data": {
      "text/plain": [
       "3    874\n",
       "2    194\n",
       "4    132\n",
       "Name: PerformanceRating, dtype: int64"
      ]
     },
     "execution_count": 202,
     "metadata": {},
     "output_type": "execute_result"
    }
   ],
   "source": [
    "#Counting total number of employees with Performance Rating: 2, 3 & 4\n",
    "data.PerformanceRating.value_counts()"
   ]
  },
  {
   "cell_type": "code",
   "execution_count": 203,
   "metadata": {},
   "outputs": [
    {
     "data": {
      "image/png": "[encoded data removed]",
      "text/plain": [
       "<matplotlib.figure.Figure at 0x1a2bda6978>"
      ]
     },
     "metadata": {},
     "output_type": "display_data"
    }
   ],
   "source": [
    "#Visualization of Performance ratings distribution count\n",
    "plt.figure(figsize=(5,5))\n",
    "sns.countplot(x='PerformanceRating',data=data);"
   ]
  },
  {
   "cell_type": "markdown",
   "metadata": {},
   "source": [
    "### <span style='color:blue'>1) Insight No.1 from the analysis: Department wise performances</span>\n",
    "### First step would be to check total employees in each department and then to check department wise distribution of performance ratings.\n",
    "### We do this by using the value.counts function."
   ]
  },
  {
   "cell_type": "code",
   "execution_count": 204,
   "metadata": {},
   "outputs": [
    {
     "data": {
      "text/plain": [
       "Sales                     373\n",
       "Development               361\n",
       "Research & Development    343\n",
       "Human Resources            54\n",
       "Finance                    49\n",
       "Data Science               20\n",
       "Name: EmpDepartment, dtype: int64"
      ]
     },
     "execution_count": 204,
     "metadata": {},
     "output_type": "execute_result"
    }
   ],
   "source": [
    "data.EmpDepartment.value_counts()"
   ]
  },
  {
   "cell_type": "code",
   "execution_count": 205,
   "metadata": {},
   "outputs": [
    {
     "name": "stdout",
     "output_type": "stream",
     "text": [
      "EmpDepartment           PerformanceRating\n",
      "Data Science            3                     17\n",
      "                        4                      2\n",
      "                        2                      1\n",
      "Development             3                    304\n",
      "                        4                     44\n",
      "                        2                     13\n",
      "Finance                 3                     30\n",
      "                        2                     15\n",
      "                        4                      4\n",
      "Human Resources         3                     38\n",
      "                        2                     10\n",
      "                        4                      6\n",
      "Research & Development  3                    234\n",
      "                        2                     68\n",
      "                        4                     41\n",
      "Sales                   3                    251\n",
      "                        2                     87\n",
      "                        4                     35\n",
      "Name: PerformanceRating, dtype: int64\n"
     ]
    }
   ],
   "source": [
    "#Department wise performances\n",
    "print(data.groupby('EmpDepartment').PerformanceRating.value_counts())"
   ]
  },
  {
   "cell_type": "code",
   "execution_count": 206,
   "metadata": {},
   "outputs": [],
   "source": [
    "from keras_preprocessing.image import load_img"
   ]
  },
  {
   "cell_type": "code",
   "execution_count": 207,
   "metadata": {},
   "outputs": [],
   "source": [
    "img = load_img('/Users/vivek/Desktop/EmplRatingDepart.png')"
   ]
  },
  {
   "cell_type": "code",
   "execution_count": 208,
   "metadata": {},
   "outputs": [
    {
     "data": {
      "image/png": "[encoded data removed]",
      "text/plain": [
       "<matplotlib.figure.Figure at 0x1a2bda92e8>"
      ]
     },
     "metadata": {},
     "output_type": "display_data"
    }
   ],
   "source": [
    "# Performance Rating by Department: visualization.\n",
    "plt.imshow(img)\n",
    "plt.show()"
   ]
  },
  {
   "cell_type": "markdown",
   "metadata": {},
   "source": [
    "### 2) Identifying Top 3 Important Factors affecting employee performance"
   ]
  },
  {
   "cell_type": "code",
   "execution_count": 209,
   "metadata": {},
   "outputs": [
    {
     "data": {
      "text/html": [
       "<div>\n",
       "<style scoped>\n",
       "    .dataframe tbody tr th:only-of-type {\n",
       "        vertical-align: middle;\n",
       "    }\n",
       "\n",
       "    .dataframe tbody tr th {\n",
       "        vertical-align: top;\n",
       "    }\n",
       "\n",
       "    .dataframe thead th {\n",
       "        text-align: right;\n",
       "    }\n",
       "</style>\n",
       "<table border=\"1\" class=\"dataframe\">\n",
       "  <thead>\n",
       "    <tr style=\"text-align: right;\">\n",
       "      <th></th>\n",
       "      <th>Age</th>\n",
       "      <th>DistanceFromHome</th>\n",
       "      <th>EmpEducationLevel</th>\n",
       "      <th>EmpEnvironmentSatisfaction</th>\n",
       "      <th>EmpHourlyRate</th>\n",
       "      <th>EmpJobInvolvement</th>\n",
       "      <th>EmpJobLevel</th>\n",
       "      <th>EmpJobSatisfaction</th>\n",
       "      <th>NumCompaniesWorked</th>\n",
       "      <th>EmpLastSalaryHikePercent</th>\n",
       "      <th>EmpRelationshipSatisfaction</th>\n",
       "      <th>TotalWorkExperienceInYears</th>\n",
       "      <th>TrainingTimesLastYear</th>\n",
       "      <th>EmpWorkLifeBalance</th>\n",
       "      <th>ExperienceYearsAtThisCompany</th>\n",
       "      <th>ExperienceYearsInCurrentRole</th>\n",
       "      <th>YearsSinceLastPromotion</th>\n",
       "      <th>YearsWithCurrManager</th>\n",
       "      <th>PerformanceRating</th>\n",
       "    </tr>\n",
       "  </thead>\n",
       "  <tbody>\n",
       "    <tr>\n",
       "      <th>Age</th>\n",
       "      <td>1.000000</td>\n",
       "      <td>0.020937</td>\n",
       "      <td>0.207313</td>\n",
       "      <td>0.013814</td>\n",
       "      <td>0.062867</td>\n",
       "      <td>0.027216</td>\n",
       "      <td>0.509139</td>\n",
       "      <td>-0.002436</td>\n",
       "      <td>0.284408</td>\n",
       "      <td>-0.006105</td>\n",
       "      <td>0.049749</td>\n",
       "      <td>0.680886</td>\n",
       "      <td>-0.016053</td>\n",
       "      <td>-0.019563</td>\n",
       "      <td>0.318852</td>\n",
       "      <td>0.217163</td>\n",
       "      <td>0.228199</td>\n",
       "      <td>0.205098</td>\n",
       "      <td>-0.040164</td>\n",
       "    </tr>\n",
       "    <tr>\n",
       "      <th>DistanceFromHome</th>\n",
       "      <td>0.020937</td>\n",
       "      <td>1.000000</td>\n",
       "      <td>0.045856</td>\n",
       "      <td>-0.017719</td>\n",
       "      <td>0.013730</td>\n",
       "      <td>0.003231</td>\n",
       "      <td>0.017270</td>\n",
       "      <td>-0.003036</td>\n",
       "      <td>-0.021411</td>\n",
       "      <td>0.044974</td>\n",
       "      <td>-0.009509</td>\n",
       "      <td>0.027306</td>\n",
       "      <td>-0.032082</td>\n",
       "      <td>-0.044788</td>\n",
       "      <td>0.021908</td>\n",
       "      <td>0.019898</td>\n",
       "      <td>0.013246</td>\n",
       "      <td>0.017860</td>\n",
       "      <td>-0.046142</td>\n",
       "    </tr>\n",
       "    <tr>\n",
       "      <th>EmpEducationLevel</th>\n",
       "      <td>0.207313</td>\n",
       "      <td>0.045856</td>\n",
       "      <td>1.000000</td>\n",
       "      <td>-0.037103</td>\n",
       "      <td>0.014095</td>\n",
       "      <td>0.027544</td>\n",
       "      <td>0.100734</td>\n",
       "      <td>0.000357</td>\n",
       "      <td>0.128674</td>\n",
       "      <td>0.002358</td>\n",
       "      <td>-0.016690</td>\n",
       "      <td>0.151062</td>\n",
       "      <td>-0.013674</td>\n",
       "      <td>0.010276</td>\n",
       "      <td>0.076332</td>\n",
       "      <td>0.066672</td>\n",
       "      <td>0.054313</td>\n",
       "      <td>0.088988</td>\n",
       "      <td>0.020529</td>\n",
       "    </tr>\n",
       "    <tr>\n",
       "      <th>EmpEnvironmentSatisfaction</th>\n",
       "      <td>0.013814</td>\n",
       "      <td>-0.017719</td>\n",
       "      <td>-0.037103</td>\n",
       "      <td>1.000000</td>\n",
       "      <td>-0.049501</td>\n",
       "      <td>0.004865</td>\n",
       "      <td>-0.008272</td>\n",
       "      <td>-0.004319</td>\n",
       "      <td>0.017270</td>\n",
       "      <td>-0.047271</td>\n",
       "      <td>-0.010504</td>\n",
       "      <td>-0.012894</td>\n",
       "      <td>0.001192</td>\n",
       "      <td>-0.000262</td>\n",
       "      <td>-0.000561</td>\n",
       "      <td>0.025491</td>\n",
       "      <td>0.010732</td>\n",
       "      <td>-0.011702</td>\n",
       "      <td>0.395561</td>\n",
       "    </tr>\n",
       "    <tr>\n",
       "      <th>EmpHourlyRate</th>\n",
       "      <td>0.062867</td>\n",
       "      <td>0.013730</td>\n",
       "      <td>0.014095</td>\n",
       "      <td>-0.049501</td>\n",
       "      <td>1.000000</td>\n",
       "      <td>0.054741</td>\n",
       "      <td>-0.018606</td>\n",
       "      <td>-0.066417</td>\n",
       "      <td>0.040484</td>\n",
       "      <td>-0.015934</td>\n",
       "      <td>0.008783</td>\n",
       "      <td>0.026034</td>\n",
       "      <td>-0.024160</td>\n",
       "      <td>0.016189</td>\n",
       "      <td>-0.000399</td>\n",
       "      <td>-0.011871</td>\n",
       "      <td>-0.010000</td>\n",
       "      <td>-0.004576</td>\n",
       "      <td>-0.043116</td>\n",
       "    </tr>\n",
       "    <tr>\n",
       "      <th>EmpJobInvolvement</th>\n",
       "      <td>0.027216</td>\n",
       "      <td>0.003231</td>\n",
       "      <td>0.027544</td>\n",
       "      <td>0.004865</td>\n",
       "      <td>0.054741</td>\n",
       "      <td>1.000000</td>\n",
       "      <td>-0.034349</td>\n",
       "      <td>-0.005501</td>\n",
       "      <td>0.018211</td>\n",
       "      <td>-0.001742</td>\n",
       "      <td>0.018037</td>\n",
       "      <td>-0.028851</td>\n",
       "      <td>-0.025168</td>\n",
       "      <td>-0.014129</td>\n",
       "      <td>-0.039720</td>\n",
       "      <td>0.002910</td>\n",
       "      <td>-0.019944</td>\n",
       "      <td>0.012924</td>\n",
       "      <td>-0.010539</td>\n",
       "    </tr>\n",
       "    <tr>\n",
       "      <th>EmpJobLevel</th>\n",
       "      <td>0.509139</td>\n",
       "      <td>0.017270</td>\n",
       "      <td>0.100734</td>\n",
       "      <td>-0.008272</td>\n",
       "      <td>-0.018606</td>\n",
       "      <td>-0.034349</td>\n",
       "      <td>1.000000</td>\n",
       "      <td>-0.011853</td>\n",
       "      <td>0.127477</td>\n",
       "      <td>-0.020975</td>\n",
       "      <td>0.002992</td>\n",
       "      <td>0.784229</td>\n",
       "      <td>-0.000389</td>\n",
       "      <td>0.049218</td>\n",
       "      <td>0.540377</td>\n",
       "      <td>0.399235</td>\n",
       "      <td>0.360880</td>\n",
       "      <td>0.374872</td>\n",
       "      <td>-0.076632</td>\n",
       "    </tr>\n",
       "    <tr>\n",
       "      <th>EmpJobSatisfaction</th>\n",
       "      <td>-0.002436</td>\n",
       "      <td>-0.003036</td>\n",
       "      <td>0.000357</td>\n",
       "      <td>-0.004319</td>\n",
       "      <td>-0.066417</td>\n",
       "      <td>-0.005501</td>\n",
       "      <td>-0.011853</td>\n",
       "      <td>1.000000</td>\n",
       "      <td>-0.049865</td>\n",
       "      <td>0.031847</td>\n",
       "      <td>-0.022028</td>\n",
       "      <td>-0.026824</td>\n",
       "      <td>-0.028031</td>\n",
       "      <td>-0.018548</td>\n",
       "      <td>0.001807</td>\n",
       "      <td>0.002018</td>\n",
       "      <td>-0.006508</td>\n",
       "      <td>-0.022096</td>\n",
       "      <td>0.000606</td>\n",
       "    </tr>\n",
       "    <tr>\n",
       "      <th>NumCompaniesWorked</th>\n",
       "      <td>0.284408</td>\n",
       "      <td>-0.021411</td>\n",
       "      <td>0.128674</td>\n",
       "      <td>0.017270</td>\n",
       "      <td>0.040484</td>\n",
       "      <td>0.018211</td>\n",
       "      <td>0.127477</td>\n",
       "      <td>-0.049865</td>\n",
       "      <td>1.000000</td>\n",
       "      <td>-0.011788</td>\n",
       "      <td>0.057917</td>\n",
       "      <td>0.221505</td>\n",
       "      <td>-0.050817</td>\n",
       "      <td>0.002489</td>\n",
       "      <td>-0.129797</td>\n",
       "      <td>-0.097271</td>\n",
       "      <td>-0.031656</td>\n",
       "      <td>-0.109937</td>\n",
       "      <td>0.020980</td>\n",
       "    </tr>\n",
       "    <tr>\n",
       "      <th>EmpLastSalaryHikePercent</th>\n",
       "      <td>-0.006105</td>\n",
       "      <td>0.044974</td>\n",
       "      <td>0.002358</td>\n",
       "      <td>-0.047271</td>\n",
       "      <td>-0.015934</td>\n",
       "      <td>-0.001742</td>\n",
       "      <td>-0.020975</td>\n",
       "      <td>0.031847</td>\n",
       "      <td>-0.011788</td>\n",
       "      <td>1.000000</td>\n",
       "      <td>-0.042892</td>\n",
       "      <td>-0.005933</td>\n",
       "      <td>-0.013439</td>\n",
       "      <td>-0.017001</td>\n",
       "      <td>-0.019830</td>\n",
       "      <td>-0.004957</td>\n",
       "      <td>-0.015911</td>\n",
       "      <td>-0.007666</td>\n",
       "      <td>0.333722</td>\n",
       "    </tr>\n",
       "    <tr>\n",
       "      <th>EmpRelationshipSatisfaction</th>\n",
       "      <td>0.049749</td>\n",
       "      <td>-0.009509</td>\n",
       "      <td>-0.016690</td>\n",
       "      <td>-0.010504</td>\n",
       "      <td>0.008783</td>\n",
       "      <td>0.018037</td>\n",
       "      <td>0.002992</td>\n",
       "      <td>-0.022028</td>\n",
       "      <td>0.057917</td>\n",
       "      <td>-0.042892</td>\n",
       "      <td>1.000000</td>\n",
       "      <td>0.018089</td>\n",
       "      <td>0.025975</td>\n",
       "      <td>-0.004906</td>\n",
       "      <td>0.015612</td>\n",
       "      <td>-0.032131</td>\n",
       "      <td>0.026253</td>\n",
       "      <td>-0.006426</td>\n",
       "      <td>-0.019502</td>\n",
       "    </tr>\n",
       "    <tr>\n",
       "      <th>TotalWorkExperienceInYears</th>\n",
       "      <td>0.680886</td>\n",
       "      <td>0.027306</td>\n",
       "      <td>0.151062</td>\n",
       "      <td>-0.012894</td>\n",
       "      <td>0.026034</td>\n",
       "      <td>-0.028851</td>\n",
       "      <td>0.784229</td>\n",
       "      <td>-0.026824</td>\n",
       "      <td>0.221505</td>\n",
       "      <td>-0.005933</td>\n",
       "      <td>0.018089</td>\n",
       "      <td>1.000000</td>\n",
       "      <td>-0.022113</td>\n",
       "      <td>0.015495</td>\n",
       "      <td>0.633555</td>\n",
       "      <td>0.460700</td>\n",
       "      <td>0.412781</td>\n",
       "      <td>0.460783</td>\n",
       "      <td>-0.068141</td>\n",
       "    </tr>\n",
       "    <tr>\n",
       "      <th>TrainingTimesLastYear</th>\n",
       "      <td>-0.016053</td>\n",
       "      <td>-0.032082</td>\n",
       "      <td>-0.013674</td>\n",
       "      <td>0.001192</td>\n",
       "      <td>-0.024160</td>\n",
       "      <td>-0.025168</td>\n",
       "      <td>-0.000389</td>\n",
       "      <td>-0.028031</td>\n",
       "      <td>-0.050817</td>\n",
       "      <td>-0.013439</td>\n",
       "      <td>0.025975</td>\n",
       "      <td>-0.022113</td>\n",
       "      <td>1.000000</td>\n",
       "      <td>0.037048</td>\n",
       "      <td>0.008564</td>\n",
       "      <td>0.010222</td>\n",
       "      <td>0.018831</td>\n",
       "      <td>-0.013237</td>\n",
       "      <td>-0.005443</td>\n",
       "    </tr>\n",
       "    <tr>\n",
       "      <th>EmpWorkLifeBalance</th>\n",
       "      <td>-0.019563</td>\n",
       "      <td>-0.044788</td>\n",
       "      <td>0.010276</td>\n",
       "      <td>-0.000262</td>\n",
       "      <td>0.016189</td>\n",
       "      <td>-0.014129</td>\n",
       "      <td>0.049218</td>\n",
       "      <td>-0.018548</td>\n",
       "      <td>0.002489</td>\n",
       "      <td>-0.017001</td>\n",
       "      <td>-0.004906</td>\n",
       "      <td>0.015495</td>\n",
       "      <td>0.037048</td>\n",
       "      <td>1.000000</td>\n",
       "      <td>0.023479</td>\n",
       "      <td>0.045719</td>\n",
       "      <td>0.015773</td>\n",
       "      <td>0.010518</td>\n",
       "      <td>0.124429</td>\n",
       "    </tr>\n",
       "    <tr>\n",
       "      <th>ExperienceYearsAtThisCompany</th>\n",
       "      <td>0.318852</td>\n",
       "      <td>0.021908</td>\n",
       "      <td>0.076332</td>\n",
       "      <td>-0.000561</td>\n",
       "      <td>-0.000399</td>\n",
       "      <td>-0.039720</td>\n",
       "      <td>0.540377</td>\n",
       "      <td>0.001807</td>\n",
       "      <td>-0.129797</td>\n",
       "      <td>-0.019830</td>\n",
       "      <td>0.015612</td>\n",
       "      <td>0.633555</td>\n",
       "      <td>0.008564</td>\n",
       "      <td>0.023479</td>\n",
       "      <td>1.000000</td>\n",
       "      <td>0.764102</td>\n",
       "      <td>0.620230</td>\n",
       "      <td>0.759258</td>\n",
       "      <td>-0.111645</td>\n",
       "    </tr>\n",
       "    <tr>\n",
       "      <th>ExperienceYearsInCurrentRole</th>\n",
       "      <td>0.217163</td>\n",
       "      <td>0.019898</td>\n",
       "      <td>0.066672</td>\n",
       "      <td>0.025491</td>\n",
       "      <td>-0.011871</td>\n",
       "      <td>0.002910</td>\n",
       "      <td>0.399235</td>\n",
       "      <td>0.002018</td>\n",
       "      <td>-0.097271</td>\n",
       "      <td>-0.004957</td>\n",
       "      <td>-0.032131</td>\n",
       "      <td>0.460700</td>\n",
       "      <td>0.010222</td>\n",
       "      <td>0.045719</td>\n",
       "      <td>0.764102</td>\n",
       "      <td>1.000000</td>\n",
       "      <td>0.540600</td>\n",
       "      <td>0.728973</td>\n",
       "      <td>-0.147638</td>\n",
       "    </tr>\n",
       "    <tr>\n",
       "      <th>YearsSinceLastPromotion</th>\n",
       "      <td>0.228199</td>\n",
       "      <td>0.013246</td>\n",
       "      <td>0.054313</td>\n",
       "      <td>0.010732</td>\n",
       "      <td>-0.010000</td>\n",
       "      <td>-0.019944</td>\n",
       "      <td>0.360880</td>\n",
       "      <td>-0.006508</td>\n",
       "      <td>-0.031656</td>\n",
       "      <td>-0.015911</td>\n",
       "      <td>0.026253</td>\n",
       "      <td>0.412781</td>\n",
       "      <td>0.018831</td>\n",
       "      <td>0.015773</td>\n",
       "      <td>0.620230</td>\n",
       "      <td>0.540600</td>\n",
       "      <td>1.000000</td>\n",
       "      <td>0.491199</td>\n",
       "      <td>-0.167629</td>\n",
       "    </tr>\n",
       "    <tr>\n",
       "      <th>YearsWithCurrManager</th>\n",
       "      <td>0.205098</td>\n",
       "      <td>0.017860</td>\n",
       "      <td>0.088988</td>\n",
       "      <td>-0.011702</td>\n",
       "      <td>-0.004576</td>\n",
       "      <td>0.012924</td>\n",
       "      <td>0.374872</td>\n",
       "      <td>-0.022096</td>\n",
       "      <td>-0.109937</td>\n",
       "      <td>-0.007666</td>\n",
       "      <td>-0.006426</td>\n",
       "      <td>0.460783</td>\n",
       "      <td>-0.013237</td>\n",
       "      <td>0.010518</td>\n",
       "      <td>0.759258</td>\n",
       "      <td>0.728973</td>\n",
       "      <td>0.491199</td>\n",
       "      <td>1.000000</td>\n",
       "      <td>-0.122313</td>\n",
       "    </tr>\n",
       "    <tr>\n",
       "      <th>PerformanceRating</th>\n",
       "      <td>-0.040164</td>\n",
       "      <td>-0.046142</td>\n",
       "      <td>0.020529</td>\n",
       "      <td>0.395561</td>\n",
       "      <td>-0.043116</td>\n",
       "      <td>-0.010539</td>\n",
       "      <td>-0.076632</td>\n",
       "      <td>0.000606</td>\n",
       "      <td>0.020980</td>\n",
       "      <td>0.333722</td>\n",
       "      <td>-0.019502</td>\n",
       "      <td>-0.068141</td>\n",
       "      <td>-0.005443</td>\n",
       "      <td>0.124429</td>\n",
       "      <td>-0.111645</td>\n",
       "      <td>-0.147638</td>\n",
       "      <td>-0.167629</td>\n",
       "      <td>-0.122313</td>\n",
       "      <td>1.000000</td>\n",
       "    </tr>\n",
       "  </tbody>\n",
       "</table>\n",
       "</div>"
      ],
      "text/plain": [
       "                                   Age  DistanceFromHome  EmpEducationLevel  \\\n",
       "Age                           1.000000          0.020937           0.207313   \n",
       "DistanceFromHome              0.020937          1.000000           0.045856   \n",
       "EmpEducationLevel             0.207313          0.045856           1.000000   \n",
       "EmpEnvironmentSatisfaction    0.013814         -0.017719          -0.037103   \n",
       "EmpHourlyRate                 0.062867          0.013730           0.014095   \n",
       "EmpJobInvolvement             0.027216          0.003231           0.027544   \n",
       "EmpJobLevel                   0.509139          0.017270           0.100734   \n",
       "EmpJobSatisfaction           -0.002436         -0.003036           0.000357   \n",
       "NumCompaniesWorked            0.284408         -0.021411           0.128674   \n",
       "EmpLastSalaryHikePercent     -0.006105          0.044974           0.002358   \n",
       "EmpRelationshipSatisfaction   0.049749         -0.009509          -0.016690   \n",
       "TotalWorkExperienceInYears    0.680886          0.027306           0.151062   \n",
       "TrainingTimesLastYear        -0.016053         -0.032082          -0.013674   \n",
       "EmpWorkLifeBalance           -0.019563         -0.044788           0.010276   \n",
       "ExperienceYearsAtThisCompany  0.318852          0.021908           0.076332   \n",
       "ExperienceYearsInCurrentRole  0.217163          0.019898           0.066672   \n",
       "YearsSinceLastPromotion       0.228199          0.013246           0.054313   \n",
       "YearsWithCurrManager          0.205098          0.017860           0.088988   \n",
       "PerformanceRating            -0.040164         -0.046142           0.020529   \n",
       "\n",
       "                              EmpEnvironmentSatisfaction  EmpHourlyRate  \\\n",
       "Age                                             0.013814       0.062867   \n",
       "DistanceFromHome                               -0.017719       0.013730   \n",
       "EmpEducationLevel                              -0.037103       0.014095   \n",
       "EmpEnvironmentSatisfaction                      1.000000      -0.049501   \n",
       "EmpHourlyRate                                  -0.049501       1.000000   \n",
       "EmpJobInvolvement                               0.004865       0.054741   \n",
       "EmpJobLevel                                    -0.008272      -0.018606   \n",
       "EmpJobSatisfaction                             -0.004319      -0.066417   \n",
       "NumCompaniesWorked                              0.017270       0.040484   \n",
       "EmpLastSalaryHikePercent                       -0.047271      -0.015934   \n",
       "EmpRelationshipSatisfaction                    -0.010504       0.008783   \n",
       "TotalWorkExperienceInYears                     -0.012894       0.026034   \n",
       "TrainingTimesLastYear                           0.001192      -0.024160   \n",
       "EmpWorkLifeBalance                             -0.000262       0.016189   \n",
       "ExperienceYearsAtThisCompany                   -0.000561      -0.000399   \n",
       "ExperienceYearsInCurrentRole                    0.025491      -0.011871   \n",
       "YearsSinceLastPromotion                         0.010732      -0.010000   \n",
       "YearsWithCurrManager                           -0.011702      -0.004576   \n",
       "PerformanceRating                               0.395561      -0.043116   \n",
       "\n",
       "                              EmpJobInvolvement  EmpJobLevel  \\\n",
       "Age                                    0.027216     0.509139   \n",
       "DistanceFromHome                       0.003231     0.017270   \n",
       "EmpEducationLevel                      0.027544     0.100734   \n",
       "EmpEnvironmentSatisfaction             0.004865    -0.008272   \n",
       "EmpHourlyRate                          0.054741    -0.018606   \n",
       "EmpJobInvolvement                      1.000000    -0.034349   \n",
       "EmpJobLevel                           -0.034349     1.000000   \n",
       "EmpJobSatisfaction                    -0.005501    -0.011853   \n",
       "NumCompaniesWorked                     0.018211     0.127477   \n",
       "EmpLastSalaryHikePercent              -0.001742    -0.020975   \n",
       "EmpRelationshipSatisfaction            0.018037     0.002992   \n",
       "TotalWorkExperienceInYears            -0.028851     0.784229   \n",
       "TrainingTimesLastYear                 -0.025168    -0.000389   \n",
       "EmpWorkLifeBalance                    -0.014129     0.049218   \n",
       "ExperienceYearsAtThisCompany          -0.039720     0.540377   \n",
       "ExperienceYearsInCurrentRole           0.002910     0.399235   \n",
       "YearsSinceLastPromotion               -0.019944     0.360880   \n",
       "YearsWithCurrManager                   0.012924     0.374872   \n",
       "PerformanceRating                     -0.010539    -0.076632   \n",
       "\n",
       "                              EmpJobSatisfaction  NumCompaniesWorked  \\\n",
       "Age                                    -0.002436            0.284408   \n",
       "DistanceFromHome                       -0.003036           -0.021411   \n",
       "EmpEducationLevel                       0.000357            0.128674   \n",
       "EmpEnvironmentSatisfaction             -0.004319            0.017270   \n",
       "EmpHourlyRate                          -0.066417            0.040484   \n",
       "EmpJobInvolvement                      -0.005501            0.018211   \n",
       "EmpJobLevel                            -0.011853            0.127477   \n",
       "EmpJobSatisfaction                      1.000000           -0.049865   \n",
       "NumCompaniesWorked                     -0.049865            1.000000   \n",
       "EmpLastSalaryHikePercent                0.031847           -0.011788   \n",
       "EmpRelationshipSatisfaction            -0.022028            0.057917   \n",
       "TotalWorkExperienceInYears             -0.026824            0.221505   \n",
       "TrainingTimesLastYear                  -0.028031           -0.050817   \n",
       "EmpWorkLifeBalance                     -0.018548            0.002489   \n",
       "ExperienceYearsAtThisCompany            0.001807           -0.129797   \n",
       "ExperienceYearsInCurrentRole            0.002018           -0.097271   \n",
       "YearsSinceLastPromotion                -0.006508           -0.031656   \n",
       "YearsWithCurrManager                   -0.022096           -0.109937   \n",
       "PerformanceRating                       0.000606            0.020980   \n",
       "\n",
       "                              EmpLastSalaryHikePercent  \\\n",
       "Age                                          -0.006105   \n",
       "DistanceFromHome                              0.044974   \n",
       "EmpEducationLevel                             0.002358   \n",
       "EmpEnvironmentSatisfaction                   -0.047271   \n",
       "EmpHourlyRate                                -0.015934   \n",
       "EmpJobInvolvement                            -0.001742   \n",
       "EmpJobLevel                                  -0.020975   \n",
       "EmpJobSatisfaction                            0.031847   \n",
       "NumCompaniesWorked                           -0.011788   \n",
       "EmpLastSalaryHikePercent                      1.000000   \n",
       "EmpRelationshipSatisfaction                  -0.042892   \n",
       "TotalWorkExperienceInYears                   -0.005933   \n",
       "TrainingTimesLastYear                        -0.013439   \n",
       "EmpWorkLifeBalance                           -0.017001   \n",
       "ExperienceYearsAtThisCompany                 -0.019830   \n",
       "ExperienceYearsInCurrentRole                 -0.004957   \n",
       "YearsSinceLastPromotion                      -0.015911   \n",
       "YearsWithCurrManager                         -0.007666   \n",
       "PerformanceRating                             0.333722   \n",
       "\n",
       "                              EmpRelationshipSatisfaction  \\\n",
       "Age                                              0.049749   \n",
       "DistanceFromHome                                -0.009509   \n",
       "EmpEducationLevel                               -0.016690   \n",
       "EmpEnvironmentSatisfaction                      -0.010504   \n",
       "EmpHourlyRate                                    0.008783   \n",
       "EmpJobInvolvement                                0.018037   \n",
       "EmpJobLevel                                      0.002992   \n",
       "EmpJobSatisfaction                              -0.022028   \n",
       "NumCompaniesWorked                               0.057917   \n",
       "EmpLastSalaryHikePercent                        -0.042892   \n",
       "EmpRelationshipSatisfaction                      1.000000   \n",
       "TotalWorkExperienceInYears                       0.018089   \n",
       "TrainingTimesLastYear                            0.025975   \n",
       "EmpWorkLifeBalance                              -0.004906   \n",
       "ExperienceYearsAtThisCompany                     0.015612   \n",
       "ExperienceYearsInCurrentRole                    -0.032131   \n",
       "YearsSinceLastPromotion                          0.026253   \n",
       "YearsWithCurrManager                            -0.006426   \n",
       "PerformanceRating                               -0.019502   \n",
       "\n",
       "                              TotalWorkExperienceInYears  \\\n",
       "Age                                             0.680886   \n",
       "DistanceFromHome                                0.027306   \n",
       "EmpEducationLevel                               0.151062   \n",
       "EmpEnvironmentSatisfaction                     -0.012894   \n",
       "EmpHourlyRate                                   0.026034   \n",
       "EmpJobInvolvement                              -0.028851   \n",
       "EmpJobLevel                                     0.784229   \n",
       "EmpJobSatisfaction                             -0.026824   \n",
       "NumCompaniesWorked                              0.221505   \n",
       "EmpLastSalaryHikePercent                       -0.005933   \n",
       "EmpRelationshipSatisfaction                     0.018089   \n",
       "TotalWorkExperienceInYears                      1.000000   \n",
       "TrainingTimesLastYear                          -0.022113   \n",
       "EmpWorkLifeBalance                              0.015495   \n",
       "ExperienceYearsAtThisCompany                    0.633555   \n",
       "ExperienceYearsInCurrentRole                    0.460700   \n",
       "YearsSinceLastPromotion                         0.412781   \n",
       "YearsWithCurrManager                            0.460783   \n",
       "PerformanceRating                              -0.068141   \n",
       "\n",
       "                              TrainingTimesLastYear  EmpWorkLifeBalance  \\\n",
       "Age                                       -0.016053           -0.019563   \n",
       "DistanceFromHome                          -0.032082           -0.044788   \n",
       "EmpEducationLevel                         -0.013674            0.010276   \n",
       "EmpEnvironmentSatisfaction                 0.001192           -0.000262   \n",
       "EmpHourlyRate                             -0.024160            0.016189   \n",
       "EmpJobInvolvement                         -0.025168           -0.014129   \n",
       "EmpJobLevel                               -0.000389            0.049218   \n",
       "EmpJobSatisfaction                        -0.028031           -0.018548   \n",
       "NumCompaniesWorked                        -0.050817            0.002489   \n",
       "EmpLastSalaryHikePercent                  -0.013439           -0.017001   \n",
       "EmpRelationshipSatisfaction                0.025975           -0.004906   \n",
       "TotalWorkExperienceInYears                -0.022113            0.015495   \n",
       "TrainingTimesLastYear                      1.000000            0.037048   \n",
       "EmpWorkLifeBalance                         0.037048            1.000000   \n",
       "ExperienceYearsAtThisCompany               0.008564            0.023479   \n",
       "ExperienceYearsInCurrentRole               0.010222            0.045719   \n",
       "YearsSinceLastPromotion                    0.018831            0.015773   \n",
       "YearsWithCurrManager                      -0.013237            0.010518   \n",
       "PerformanceRating                         -0.005443            0.124429   \n",
       "\n",
       "                              ExperienceYearsAtThisCompany  \\\n",
       "Age                                               0.318852   \n",
       "DistanceFromHome                                  0.021908   \n",
       "EmpEducationLevel                                 0.076332   \n",
       "EmpEnvironmentSatisfaction                       -0.000561   \n",
       "EmpHourlyRate                                    -0.000399   \n",
       "EmpJobInvolvement                                -0.039720   \n",
       "EmpJobLevel                                       0.540377   \n",
       "EmpJobSatisfaction                                0.001807   \n",
       "NumCompaniesWorked                               -0.129797   \n",
       "EmpLastSalaryHikePercent                         -0.019830   \n",
       "EmpRelationshipSatisfaction                       0.015612   \n",
       "TotalWorkExperienceInYears                        0.633555   \n",
       "TrainingTimesLastYear                             0.008564   \n",
       "EmpWorkLifeBalance                                0.023479   \n",
       "ExperienceYearsAtThisCompany                      1.000000   \n",
       "ExperienceYearsInCurrentRole                      0.764102   \n",
       "YearsSinceLastPromotion                           0.620230   \n",
       "YearsWithCurrManager                              0.759258   \n",
       "PerformanceRating                                -0.111645   \n",
       "\n",
       "                              ExperienceYearsInCurrentRole  \\\n",
       "Age                                               0.217163   \n",
       "DistanceFromHome                                  0.019898   \n",
       "EmpEducationLevel                                 0.066672   \n",
       "EmpEnvironmentSatisfaction                        0.025491   \n",
       "EmpHourlyRate                                    -0.011871   \n",
       "EmpJobInvolvement                                 0.002910   \n",
       "EmpJobLevel                                       0.399235   \n",
       "EmpJobSatisfaction                                0.002018   \n",
       "NumCompaniesWorked                               -0.097271   \n",
       "EmpLastSalaryHikePercent                         -0.004957   \n",
       "EmpRelationshipSatisfaction                      -0.032131   \n",
       "TotalWorkExperienceInYears                        0.460700   \n",
       "TrainingTimesLastYear                             0.010222   \n",
       "EmpWorkLifeBalance                                0.045719   \n",
       "ExperienceYearsAtThisCompany                      0.764102   \n",
       "ExperienceYearsInCurrentRole                      1.000000   \n",
       "YearsSinceLastPromotion                           0.540600   \n",
       "YearsWithCurrManager                              0.728973   \n",
       "PerformanceRating                                -0.147638   \n",
       "\n",
       "                              YearsSinceLastPromotion  YearsWithCurrManager  \\\n",
       "Age                                          0.228199              0.205098   \n",
       "DistanceFromHome                             0.013246              0.017860   \n",
       "EmpEducationLevel                            0.054313              0.088988   \n",
       "EmpEnvironmentSatisfaction                   0.010732             -0.011702   \n",
       "EmpHourlyRate                               -0.010000             -0.004576   \n",
       "EmpJobInvolvement                           -0.019944              0.012924   \n",
       "EmpJobLevel                                  0.360880              0.374872   \n",
       "EmpJobSatisfaction                          -0.006508             -0.022096   \n",
       "NumCompaniesWorked                          -0.031656             -0.109937   \n",
       "EmpLastSalaryHikePercent                    -0.015911             -0.007666   \n",
       "EmpRelationshipSatisfaction                  0.026253             -0.006426   \n",
       "TotalWorkExperienceInYears                   0.412781              0.460783   \n",
       "TrainingTimesLastYear                        0.018831             -0.013237   \n",
       "EmpWorkLifeBalance                           0.015773              0.010518   \n",
       "ExperienceYearsAtThisCompany                 0.620230              0.759258   \n",
       "ExperienceYearsInCurrentRole                 0.540600              0.728973   \n",
       "YearsSinceLastPromotion                      1.000000              0.491199   \n",
       "YearsWithCurrManager                         0.491199              1.000000   \n",
       "PerformanceRating                           -0.167629             -0.122313   \n",
       "\n",
       "                              PerformanceRating  \n",
       "Age                                   -0.040164  \n",
       "DistanceFromHome                      -0.046142  \n",
       "EmpEducationLevel                      0.020529  \n",
       "EmpEnvironmentSatisfaction             0.395561  \n",
       "EmpHourlyRate                         -0.043116  \n",
       "EmpJobInvolvement                     -0.010539  \n",
       "EmpJobLevel                           -0.076632  \n",
       "EmpJobSatisfaction                     0.000606  \n",
       "NumCompaniesWorked                     0.020980  \n",
       "EmpLastSalaryHikePercent               0.333722  \n",
       "EmpRelationshipSatisfaction           -0.019502  \n",
       "TotalWorkExperienceInYears            -0.068141  \n",
       "TrainingTimesLastYear                 -0.005443  \n",
       "EmpWorkLifeBalance                     0.124429  \n",
       "ExperienceYearsAtThisCompany          -0.111645  \n",
       "ExperienceYearsInCurrentRole          -0.147638  \n",
       "YearsSinceLastPromotion               -0.167629  \n",
       "YearsWithCurrManager                  -0.122313  \n",
       "PerformanceRating                      1.000000  "
      ]
     },
     "execution_count": 209,
     "metadata": {},
     "output_type": "execute_result"
    }
   ],
   "source": [
    "#Checking correlation helps identify mutual relationship or association between variables.\n",
    "#Here we check the correlation between features and Performance Rating.\n",
    "data.corr()"
   ]
  },
  {
   "cell_type": "code",
   "execution_count": null,
   "metadata": {},
   "outputs": [],
   "source": []
  },
  {
   "cell_type": "code",
   "execution_count": 210,
   "metadata": {},
   "outputs": [
    {
     "data": {
      "text/plain": [
       "Life Sciences       492\n",
       "Medical             384\n",
       "Marketing           137\n",
       "Technical Degree    100\n",
       "Other                66\n",
       "Human Resources      21\n",
       "Name: EducationBackground, dtype: int64"
      ]
     },
     "execution_count": 210,
     "metadata": {},
     "output_type": "execute_result"
    }
   ],
   "source": [
    "#Checking class count.\n",
    "#Mapping the frequency of education background of employees.\n",
    "data.EducationBackground.value_counts()"
   ]
  },
  {
   "cell_type": "code",
   "execution_count": 211,
   "metadata": {},
   "outputs": [
    {
     "data": {
      "image/png": "[encoded data removed]",
      "text/plain": [
       "<matplotlib.figure.Figure at 0x1a2bdb0c88>"
      ]
     },
     "metadata": {},
     "output_type": "display_data"
    },
    {
     "name": "stdout",
     "output_type": "stream",
     "text": [
      "EducationBackground  PerformanceRating\n",
      "Human Resources      3                     16\n",
      "                     2                      3\n",
      "                     4                      2\n",
      "Life Sciences        3                    357\n",
      "                     2                     78\n",
      "                     4                     57\n",
      "Marketing            3                     94\n",
      "                     2                     29\n",
      "                     4                     14\n",
      "Medical              3                    281\n",
      "                     2                     63\n",
      "                     4                     40\n",
      "Other                3                     56\n",
      "                     4                      7\n",
      "                     2                      3\n",
      "Technical Degree     3                     70\n",
      "                     2                     18\n",
      "                     4                     12\n",
      "Name: PerformanceRating, dtype: int64\n"
     ]
    }
   ],
   "source": [
    "#Relationship between target Performance Rating and EducationBackground\n",
    "from matplotlib import rcParams\n",
    "rcParams['figure.figsize'] = 9,5\n",
    "sns.barplot(x='EducationBackground',y='PerformanceRating', hue=\"PerformanceRating\", data=data)\n",
    "plt.legend(loc='upper left')\n",
    "plt.show()\n",
    "print(data.groupby('EducationBackground').PerformanceRating.value_counts())"
   ]
  },
  {
   "cell_type": "code",
   "execution_count": 212,
   "metadata": {},
   "outputs": [
    {
     "data": {
      "image/png": "[encoded data removed]",
      "text/plain": [
       "<matplotlib.figure.Figure at 0x117b035f8>"
      ]
     },
     "metadata": {},
     "output_type": "display_data"
    },
    {
     "name": "stdout",
     "output_type": "stream",
     "text": [
      "Gender  PerformanceRating\n",
      "Female  3                    349\n",
      "        2                     75\n",
      "        4                     51\n",
      "Male    3                    525\n",
      "        2                    119\n",
      "        4                     81\n",
      "Name: PerformanceRating, dtype: int64\n"
     ]
    }
   ],
   "source": [
    "#plotting images with colors\n",
    "#relationship between target and Gender\n",
    "from matplotlib import rcParams\n",
    "rcParams['figure.figsize'] = 9,5\n",
    "sns.barplot(x='Gender',y='PerformanceRating', hue=\"PerformanceRating\", data=data)\n",
    "plt.legend(loc='upper left')\n",
    "plt.show()\n",
    "print(data.groupby('Gender').PerformanceRating.value_counts())"
   ]
  },
  {
   "cell_type": "code",
   "execution_count": 213,
   "metadata": {},
   "outputs": [
    {
     "data": {
      "image/png": "[encoded data removed]",
      "text/plain": [
       "<matplotlib.figure.Figure at 0x1a2bdca358>"
      ]
     },
     "metadata": {},
     "output_type": "display_data"
    },
    {
     "name": "stdout",
     "output_type": "stream",
     "text": [
      "MaritalStatus  PerformanceRating\n",
      "Divorced       3                    205\n",
      "               2                     37\n",
      "               4                     26\n",
      "Married        3                    393\n",
      "               2                    100\n",
      "               4                     55\n",
      "Single         3                    276\n",
      "               2                     57\n",
      "               4                     51\n",
      "Name: PerformanceRating, dtype: int64\n"
     ]
    }
   ],
   "source": [
    "#relationship between target and MaritalStatus\n",
    "from matplotlib import rcParams\n",
    "rcParams['figure.figsize'] = 9,5\n",
    "sns.barplot(x='MaritalStatus',y='PerformanceRating', hue=\"Gender\", data=data)\n",
    "plt.legend(loc='upper left')\n",
    "plt.show()\n",
    "print(data.groupby('MaritalStatus').PerformanceRating.value_counts())"
   ]
  },
  {
   "cell_type": "code",
   "execution_count": 214,
   "metadata": {},
   "outputs": [
    {
     "data": {
      "text/plain": [
       "Sales                     373\n",
       "Development               361\n",
       "Research & Development    343\n",
       "Human Resources            54\n",
       "Finance                    49\n",
       "Data Science               20\n",
       "Name: EmpDepartment, dtype: int64"
      ]
     },
     "execution_count": 214,
     "metadata": {},
     "output_type": "execute_result"
    }
   ],
   "source": [
    "data.EmpDepartment.value_counts()"
   ]
  },
  {
   "cell_type": "code",
   "execution_count": 215,
   "metadata": {},
   "outputs": [
    {
     "data": {
      "image/png": "[encoded data removed]",
      "text/plain": [
       "<matplotlib.figure.Figure at 0x1a2b5bad30>"
      ]
     },
     "metadata": {},
     "output_type": "display_data"
    },
    {
     "name": "stdout",
     "output_type": "stream",
     "text": [
      "EmpDepartment           PerformanceRating\n",
      "Data Science            3                     17\n",
      "                        4                      2\n",
      "                        2                      1\n",
      "Development             3                    304\n",
      "                        4                     44\n",
      "                        2                     13\n",
      "Finance                 3                     30\n",
      "                        2                     15\n",
      "                        4                      4\n",
      "Human Resources         3                     38\n",
      "                        2                     10\n",
      "                        4                      6\n",
      "Research & Development  3                    234\n",
      "                        2                     68\n",
      "                        4                     41\n",
      "Sales                   3                    251\n",
      "                        2                     87\n",
      "                        4                     35\n",
      "Name: PerformanceRating, dtype: int64\n"
     ]
    }
   ],
   "source": [
    "#relationship between target and EmpDepartment\n",
    "from matplotlib import rcParams\n",
    "rcParams['figure.figsize'] = 12,5\n",
    "sns.barplot(x='EmpDepartment',y='PerformanceRating', data=data)\n",
    "plt.show()\n",
    "print(data.groupby('EmpDepartment').PerformanceRating.value_counts())"
   ]
  },
  {
   "cell_type": "code",
   "execution_count": 216,
   "metadata": {},
   "outputs": [
    {
     "data": {
      "text/plain": [
       "Sales Executive              270\n",
       "Developer                    236\n",
       "Manager R&D                   94\n",
       "Research Scientist            77\n",
       "Sales Representative          69\n",
       "Laboratory Technician         64\n",
       "Senior Developer              52\n",
       "Manager                       51\n",
       "Finance Manager               49\n",
       "Human Resources               45\n",
       "Technical Lead                38\n",
       "Manufacturing Director        33\n",
       "Healthcare Representative     33\n",
       "Data Scientist                20\n",
       "Research Director             19\n",
       "Business Analyst              16\n",
       "Senior Manager R&D            15\n",
       "Delivery Manager              12\n",
       "Technical Architect            7\n",
       "Name: EmpJobRole, dtype: int64"
      ]
     },
     "execution_count": 216,
     "metadata": {},
     "output_type": "execute_result"
    }
   ],
   "source": [
    "data.EmpJobRole.value_counts()"
   ]
  },
  {
   "cell_type": "code",
   "execution_count": 217,
   "metadata": {},
   "outputs": [
    {
     "data": {
      "image/png": "[encoded data removed]",
      "text/plain": [
       "<matplotlib.figure.Figure at 0x1a2af8ce80>"
      ]
     },
     "metadata": {},
     "output_type": "display_data"
    },
    {
     "name": "stdout",
     "output_type": "stream",
     "text": [
      "EmpJobRole                 PerformanceRating\n",
      "Business Analyst           3                     13\n",
      "                           4                      3\n",
      "Data Scientist             3                     17\n",
      "                           4                      2\n",
      "                           2                      1\n",
      "Delivery Manager           3                     12\n",
      "Developer                  3                    199\n",
      "                           4                     31\n",
      "                           2                      6\n",
      "Finance Manager            3                     30\n",
      "                           2                     15\n",
      "                           4                      4\n",
      "Healthcare Representative  3                     22\n",
      "                           2                      8\n",
      "                           4                      3\n",
      "Human Resources            3                     31\n",
      "                           2                      9\n",
      "                           4                      5\n",
      "Laboratory Technician      3                     45\n",
      "                           2                     14\n",
      "                           4                      5\n",
      "Manager                    3                     29\n",
      "                           2                     12\n",
      "                           4                     10\n",
      "Manager R&D                3                     66\n",
      "                           2                     17\n",
      "                           4                     11\n",
      "Manufacturing Director     3                     28\n",
      "                           2                      3\n",
      "                           4                      2\n",
      "Research Director          3                     11\n",
      "                           2                      5\n",
      "                           4                      3\n",
      "Research Scientist         3                     46\n",
      "                           2                     17\n",
      "                           4                     14\n",
      "Sales Executive            3                    181\n",
      "                           2                     64\n",
      "                           4                     25\n",
      "Sales Representative       3                     54\n",
      "                           2                     12\n",
      "                           4                      3\n",
      "Senior Developer           3                     40\n",
      "                           2                      6\n",
      "                           4                      6\n",
      "Senior Manager R&D         3                     10\n",
      "                           2                      4\n",
      "                           4                      1\n",
      "Technical Architect        3                      7\n",
      "Technical Lead             3                     33\n",
      "                           4                      4\n",
      "                           2                      1\n",
      "Name: PerformanceRating, dtype: int64\n"
     ]
    }
   ],
   "source": [
    "#relationship between target and EmpJobRole\n",
    "from matplotlib import rcParams\n",
    "rcParams['figure.figsize'] = 25,10\n",
    "sns.barplot(x='EmpJobRole',y='PerformanceRating',data=data)\n",
    "sns.despine(left=True, bottom=True)\n",
    "plt.show()\n",
    "print(data.groupby('EmpJobRole').PerformanceRating.value_counts())"
   ]
  },
  {
   "cell_type": "code",
   "execution_count": 218,
   "metadata": {},
   "outputs": [
    {
     "data": {
      "text/plain": [
       "Travel_Rarely        846\n",
       "Travel_Frequently    222\n",
       "Non-Travel           132\n",
       "Name: BusinessTravelFrequency, dtype: int64"
      ]
     },
     "execution_count": 218,
     "metadata": {},
     "output_type": "execute_result"
    }
   ],
   "source": [
    "data.BusinessTravelFrequency.value_counts()"
   ]
  },
  {
   "cell_type": "code",
   "execution_count": 219,
   "metadata": {},
   "outputs": [
    {
     "data": {
      "image/png": "[encoded data removed]",
      "text/plain": [
       "<matplotlib.figure.Figure at 0x1a2c13f9e8>"
      ]
     },
     "metadata": {},
     "output_type": "display_data"
    },
    {
     "name": "stdout",
     "output_type": "stream",
     "text": [
      "BusinessTravelFrequency  PerformanceRating\n",
      "Non-Travel               3                     93\n",
      "                         2                     21\n",
      "                         4                     18\n",
      "Travel_Frequently        3                    154\n",
      "                         2                     37\n",
      "                         4                     31\n",
      "Travel_Rarely            3                    627\n",
      "                         2                    136\n",
      "                         4                     83\n",
      "Name: PerformanceRating, dtype: int64\n"
     ]
    }
   ],
   "source": [
    "#relationship between target and BusinessTravelFrequency\n",
    "from matplotlib import rcParams\n",
    "rcParams['figure.figsize'] = 7,5\n",
    "sns.barplot(x='BusinessTravelFrequency',y='PerformanceRating',hue='OverTime' ,data=data)\n",
    "plt.show()\n",
    "print(data.groupby('BusinessTravelFrequency').PerformanceRating.value_counts())"
   ]
  },
  {
   "cell_type": "code",
   "execution_count": 220,
   "metadata": {},
   "outputs": [
    {
     "data": {
      "text/plain": [
       "No     847\n",
       "Yes    353\n",
       "Name: OverTime, dtype: int64"
      ]
     },
     "execution_count": 220,
     "metadata": {},
     "output_type": "execute_result"
    }
   ],
   "source": [
    "data.OverTime.value_counts()"
   ]
  },
  {
   "cell_type": "code",
   "execution_count": 221,
   "metadata": {},
   "outputs": [
    {
     "data": {
      "text/plain": [
       "No     1022\n",
       "Yes     178\n",
       "Name: Attrition, dtype: int64"
      ]
     },
     "execution_count": 221,
     "metadata": {},
     "output_type": "execute_result"
    }
   ],
   "source": [
    "data.Attrition.value_counts()"
   ]
  },
  {
   "cell_type": "code",
   "execution_count": 222,
   "metadata": {},
   "outputs": [
    {
     "data": {
      "image/png": "[encoded data removed]",
      "text/plain": [
       "<matplotlib.figure.Figure at 0x1a2c913b38>"
      ]
     },
     "metadata": {},
     "output_type": "display_data"
    },
    {
     "name": "stdout",
     "output_type": "stream",
     "text": [
      "Attrition  PerformanceRating\n",
      "No         3                    750\n",
      "           2                    158\n",
      "           4                    114\n",
      "Yes        3                    124\n",
      "           2                     36\n",
      "           4                     18\n",
      "Name: PerformanceRating, dtype: int64\n"
     ]
    }
   ],
   "source": [
    "#relationship between target and Attrition\n",
    "from matplotlib import rcParams\n",
    "rcParams['figure.figsize'] = 7,5\n",
    "sns.barplot(x='Attrition',y='PerformanceRating',hue='OverTime' ,data=data)\n",
    "plt.show()\n",
    "print(data.groupby('Attrition').PerformanceRating.value_counts())"
   ]
  },
  {
   "cell_type": "code",
   "execution_count": 223,
   "metadata": {},
   "outputs": [],
   "source": [
    "#assinging data\n",
    "df = data"
   ]
  },
  {
   "cell_type": "code",
   "execution_count": 224,
   "metadata": {},
   "outputs": [],
   "source": [
    "#handeling catagorical data\n",
    "from sklearn.preprocessing import LabelEncoder\n",
    "labelEncoder = LabelEncoder()\n",
    "df.Gender = labelEncoder.fit_transform(df.Gender)\n",
    "df.EducationBackground = labelEncoder.fit_transform(df.EducationBackground)\n",
    "df.MaritalStatus = labelEncoder.fit_transform(df.MaritalStatus)\n",
    "df.EmpDepartment = labelEncoder.fit_transform(df.EmpDepartment)\n",
    "df.BusinessTravelFrequency = labelEncoder.fit_transform(df.BusinessTravelFrequency)\n",
    "df.Attrition = labelEncoder.fit_transform(df.Attrition)\n",
    "df.OverTime = labelEncoder.fit_transform(df.OverTime)"
   ]
  },
  {
   "cell_type": "code",
   "execution_count": 225,
   "metadata": {},
   "outputs": [],
   "source": [
    "#creaing dummy variables\n",
    "EmpJobRole_dummy = pd.get_dummies(df.EmpJobRole).drop('Technical Architect',axis=1)"
   ]
  },
  {
   "cell_type": "code",
   "execution_count": 226,
   "metadata": {},
   "outputs": [],
   "source": [
    "#concating dummy variables to dataframe\n",
    "df = df.drop(\"EmpJobRole\",axis=1)\n",
    "df = pd.concat([df , EmpJobRole_dummy],axis=1)"
   ]
  },
  {
   "cell_type": "code",
   "execution_count": 227,
   "metadata": {},
   "outputs": [
    {
     "data": {
      "text/plain": [
       "(1200, 45)"
      ]
     },
     "execution_count": 227,
     "metadata": {},
     "output_type": "execute_result"
    }
   ],
   "source": [
    "df.shape"
   ]
  },
  {
   "cell_type": "code",
   "execution_count": 228,
   "metadata": {},
   "outputs": [],
   "source": [
    "#setting up dependent and independent variables\n",
    "X = df.drop(['PerformanceRating','EmpNumber'],axis=1)\n",
    "y = df['PerformanceRating']"
   ]
  },
  {
   "cell_type": "code",
   "execution_count": 229,
   "metadata": {},
   "outputs": [],
   "source": [
    "#saving the column names\n",
    "col = X.columns"
   ]
  },
  {
   "cell_type": "code",
   "execution_count": 230,
   "metadata": {},
   "outputs": [],
   "source": [
    "#normalization of data\n",
    "from sklearn.preprocessing import scale\n",
    "X = scale(X)"
   ]
  },
  {
   "cell_type": "code",
   "execution_count": 231,
   "metadata": {},
   "outputs": [],
   "source": [
    "X = pd.DataFrame(data=X , columns=col)"
   ]
  },
  {
   "cell_type": "code",
   "execution_count": 232,
   "metadata": {},
   "outputs": [],
   "source": [
    "#splitting data into train test\n",
    "from sklearn.cross_validation import train_test_split\n",
    "X_train, X_test, y_train, y_test = train_test_split(X, y, test_size=0.20, random_state=42)"
   ]
  },
  {
   "cell_type": "code",
   "execution_count": 233,
   "metadata": {},
   "outputs": [],
   "source": [
    "#Defining Random Forest model\n",
    "from sklearn.ensemble import RandomForestClassifier\n",
    "random_forest_model = RandomForestClassifier(n_estimators=17)"
   ]
  },
  {
   "cell_type": "code",
   "execution_count": 234,
   "metadata": {},
   "outputs": [
    {
     "data": {
      "text/plain": [
       "RandomForestClassifier(bootstrap=True, class_weight=None, criterion='gini',\n",
       "            max_depth=None, max_features='auto', max_leaf_nodes=None,\n",
       "            min_impurity_decrease=0.0, min_impurity_split=None,\n",
       "            min_samples_leaf=1, min_samples_split=2,\n",
       "            min_weight_fraction_leaf=0.0, n_estimators=17, n_jobs=1,\n",
       "            oob_score=False, random_state=None, verbose=0,\n",
       "            warm_start=False)"
      ]
     },
     "execution_count": 234,
     "metadata": {},
     "output_type": "execute_result"
    }
   ],
   "source": [
    "#Training the model\n",
    "random_forest_model.fit(X_train , y_train)"
   ]
  },
  {
   "cell_type": "code",
   "execution_count": 235,
   "metadata": {},
   "outputs": [],
   "source": [
    "#Predicting the y-target\n",
    "y_predict = random_forest_model.predict(X_test)"
   ]
  },
  {
   "cell_type": "code",
   "execution_count": 236,
   "metadata": {},
   "outputs": [
    {
     "name": "stdout",
     "output_type": "stream",
     "text": [
      "0.9041666666666667\n"
     ]
    }
   ],
   "source": [
    "#Accuaray checking\n",
    "from sklearn.metrics import accuracy_score , confusion_matrix\n",
    "random_forest_model_acc = accuracy_score(y_test , y_predict)\n",
    "print(random_forest_model_acc)"
   ]
  },
  {
   "cell_type": "markdown",
   "metadata": {},
   "source": [
    "## <span style='color:blue'>We achieved 91% efficiency using the Random Forest model, without feature selection.</span>"
   ]
  },
  {
   "cell_type": "code",
   "execution_count": 237,
   "metadata": {},
   "outputs": [
    {
     "data": {
      "text/plain": [
       "array([[ 26,   3,   0],\n",
       "       [  4, 177,   3],\n",
       "       [  0,  13,  14]])"
      ]
     },
     "execution_count": 237,
     "metadata": {},
     "output_type": "execute_result"
    }
   ],
   "source": [
    "confusion_matrix(y_test , y_predict)"
   ]
  },
  {
   "cell_type": "code",
   "execution_count": 238,
   "metadata": {},
   "outputs": [],
   "source": [
    "#getting feature importance for feature selection\n",
    "importance = random_forest_model.feature_importances_"
   ]
  },
  {
   "cell_type": "code",
   "execution_count": 239,
   "metadata": {},
   "outputs": [],
   "source": [
    "#creating dataframe for feature importance\n",
    "feature_importance = pd.DataFrame({\"Columns\":col , \"Degree of impact\":importance})\n",
    "feature_importance = feature_importance.sort_values('Degree of impact',ascending=True)"
   ]
  },
  {
   "cell_type": "code",
   "execution_count": 240,
   "metadata": {},
   "outputs": [
    {
     "data": {
      "image/png": "[encoded data removed]",
      "text/plain": [
       "<matplotlib.figure.Figure at 0x1a2af7f1d0>"
      ]
     },
     "metadata": {},
     "output_type": "display_data"
    }
   ],
   "source": [
    "#visulizing feature importance \n",
    "import matplotlib.pyplot as plt\n",
    "from matplotlib import rcParams\n",
    "rcParams['figure.figsize'] = 10,10\n",
    "plt.barh(range(len(feature_importance['Degree of impact'])), feature_importance['Degree of impact'])\n",
    "plt.yticks(range(len(feature_importance['Columns'])), feature_importance['Columns'],color='blue',fontsize=10)\n",
    "plt.xlabel(\"Degree of impact\",fontsize=15)\n",
    "plt.ylabel(\"Factors affecting employee performance\",fontsize=15)\n",
    "plt.show()"
   ]
  },
  {
   "cell_type": "code",
   "execution_count": 241,
   "metadata": {},
   "outputs": [],
   "source": [
    "#removing less importance features\n",
    "cols = EmpJobRole_dummy.columns"
   ]
  },
  {
   "cell_type": "code",
   "execution_count": 242,
   "metadata": {},
   "outputs": [],
   "source": [
    "#selected features\n",
    "XX_train = X_train.drop(cols , axis=1)\n",
    "XX_test  = X_test.drop(cols , axis=1)"
   ]
  },
  {
   "cell_type": "code",
   "execution_count": 243,
   "metadata": {},
   "outputs": [],
   "source": [
    "#Deleting overtime and Attrition\n",
    "XX_train = XX_train.drop(['OverTime','Attrition'] , axis=1)\n",
    "XX_test  = XX_test.drop(['OverTime','Attrition'] , axis=1)"
   ]
  },
  {
   "cell_type": "code",
   "execution_count": 244,
   "metadata": {},
   "outputs": [],
   "source": [
    "#Defining Random Forest with feature enginerring model\n",
    "random_forest_model2 = RandomForestClassifier(n_estimators=19)"
   ]
  },
  {
   "cell_type": "code",
   "execution_count": 245,
   "metadata": {},
   "outputs": [
    {
     "data": {
      "text/plain": [
       "RandomForestClassifier(bootstrap=True, class_weight=None, criterion='gini',\n",
       "            max_depth=None, max_features='auto', max_leaf_nodes=None,\n",
       "            min_impurity_decrease=0.0, min_impurity_split=None,\n",
       "            min_samples_leaf=1, min_samples_split=2,\n",
       "            min_weight_fraction_leaf=0.0, n_estimators=19, n_jobs=1,\n",
       "            oob_score=False, random_state=None, verbose=0,\n",
       "            warm_start=False)"
      ]
     },
     "execution_count": 245,
     "metadata": {},
     "output_type": "execute_result"
    }
   ],
   "source": [
    "#Training model\n",
    "random_forest_model2.fit(XX_train , y_train)"
   ]
  },
  {
   "cell_type": "code",
   "execution_count": 246,
   "metadata": {},
   "outputs": [],
   "source": [
    "#Predicting y-target\n",
    "yy_predict = random_forest_model2.predict(XX_test)"
   ]
  },
  {
   "cell_type": "code",
   "execution_count": 247,
   "metadata": {},
   "outputs": [
    {
     "name": "stdout",
     "output_type": "stream",
     "text": [
      "0.9375\n"
     ]
    }
   ],
   "source": [
    "random_forest_model2_acc = accuracy_score(y_test , yy_predict)\n",
    "print(random_forest_model2_acc)"
   ]
  },
  {
   "cell_type": "markdown",
   "metadata": {},
   "source": [
    "## <span style='color:blue'>We achieved 94% efficiency using the Random Forest model, with feature selection.</span>"
   ]
  },
  {
   "cell_type": "code",
   "execution_count": 248,
   "metadata": {},
   "outputs": [
    {
     "data": {
      "text/plain": [
       "array([[ 23,   6,   0],\n",
       "       [  1, 183,   0],\n",
       "       [  0,   8,  19]])"
      ]
     },
     "execution_count": 248,
     "metadata": {},
     "output_type": "execute_result"
    }
   ],
   "source": [
    "confusion_matrix(y_test , yy_predict)"
   ]
  },
  {
   "cell_type": "code",
   "execution_count": 249,
   "metadata": {},
   "outputs": [],
   "source": [
    "from sklearn.neighbors import KNeighborsClassifier\n",
    "knn_model3 = KNeighborsClassifier(n_neighbors=5)"
   ]
  },
  {
   "cell_type": "code",
   "execution_count": 250,
   "metadata": {},
   "outputs": [
    {
     "data": {
      "text/plain": [
       "KNeighborsClassifier(algorithm='auto', leaf_size=30, metric='minkowski',\n",
       "           metric_params=None, n_jobs=1, n_neighbors=5, p=2,\n",
       "           weights='uniform')"
      ]
     },
     "execution_count": 250,
     "metadata": {},
     "output_type": "execute_result"
    }
   ],
   "source": [
    "knn_model3.fit(XX_train , y_train)"
   ]
  },
  {
   "cell_type": "code",
   "execution_count": 251,
   "metadata": {},
   "outputs": [],
   "source": [
    "y_predict_knn = knn_model3.predict(XX_test)"
   ]
  },
  {
   "cell_type": "code",
   "execution_count": 252,
   "metadata": {},
   "outputs": [
    {
     "name": "stdout",
     "output_type": "stream",
     "text": [
      "0.8125\n"
     ]
    }
   ],
   "source": [
    "knn_model3_acc=accuracy_score(y_test , y_predict_knn)\n",
    "print(knn_model3_acc)"
   ]
  },
  {
   "cell_type": "markdown",
   "metadata": {},
   "source": [
    "## <span style='color:blue'>We achieved 81% efficiency using the K-Nearest Neighbours model, with feature selection.</span>"
   ]
  },
  {
   "cell_type": "code",
   "execution_count": 253,
   "metadata": {},
   "outputs": [
    {
     "data": {
      "text/plain": [
       "array([[  9,  20,   0],\n",
       "       [  6, 176,   2],\n",
       "       [  2,  15,  10]])"
      ]
     },
     "execution_count": 253,
     "metadata": {},
     "output_type": "execute_result"
    }
   ],
   "source": [
    "confusion_matrix(y_test , y_predict_knn)"
   ]
  },
  {
   "cell_type": "code",
   "execution_count": 254,
   "metadata": {},
   "outputs": [
    {
     "data": {
      "text/html": [
       "<div>\n",
       "<style scoped>\n",
       "    .dataframe tbody tr th:only-of-type {\n",
       "        vertical-align: middle;\n",
       "    }\n",
       "\n",
       "    .dataframe tbody tr th {\n",
       "        vertical-align: top;\n",
       "    }\n",
       "\n",
       "    .dataframe thead th {\n",
       "        text-align: right;\n",
       "    }\n",
       "</style>\n",
       "<table border=\"1\" class=\"dataframe\">\n",
       "  <thead>\n",
       "    <tr style=\"text-align: right;\">\n",
       "      <th></th>\n",
       "      <th>accuracy</th>\n",
       "      <th>model</th>\n",
       "    </tr>\n",
       "  </thead>\n",
       "  <tbody>\n",
       "    <tr>\n",
       "      <th>0</th>\n",
       "      <td>0.904167</td>\n",
       "      <td>random_forest_model</td>\n",
       "    </tr>\n",
       "    <tr>\n",
       "      <th>1</th>\n",
       "      <td>0.937500</td>\n",
       "      <td>random_forest_model2</td>\n",
       "    </tr>\n",
       "    <tr>\n",
       "      <th>2</th>\n",
       "      <td>0.812500</td>\n",
       "      <td>knn_model3</td>\n",
       "    </tr>\n",
       "  </tbody>\n",
       "</table>\n",
       "</div>"
      ],
      "text/plain": [
       "   accuracy                 model\n",
       "0  0.904167   random_forest_model\n",
       "1  0.937500  random_forest_model2\n",
       "2  0.812500            knn_model3"
      ]
     },
     "execution_count": 254,
     "metadata": {},
     "output_type": "execute_result"
    }
   ],
   "source": [
    "#Selecting the most effecient model with 93.75% accuracy.\n",
    "pd.DataFrame({\"model\":[\"random_forest_model\",\"random_forest_model2\",\"knn_model3\"],\n",
    "             \"accuracy\":[random_forest_model_acc,random_forest_model2_acc,knn_model3_acc]})"
   ]
  },
  {
   "cell_type": "markdown",
   "metadata": {},
   "source": [
    "### With 93% efficiency, we recommend Random Forest model to predict Employee Performance based on factors as inputs. This model could be used ato improve hiring decisions."
   ]
  },
  {
   "cell_type": "markdown",
   "metadata": {},
   "source": [
    "# <span style='color:blue'>Recommendations improve the employee performance based on insights from analysis.<span>"
   ]
  },
  {
   "cell_type": "markdown",
   "metadata": {},
   "source": [
    "### 1) Candidates between 31years to 40 years of age tend to Perform better at Ranking 4.\n",
    "### 2) Candidates with +15 years total experience tend to be average performers. (Rating3)\n",
    "### 3) Candidates with 12 to 15 years of experience show higher probability of better performance (Rating4)\n",
    "### 4) Candidates with 1 year of experience have very high probaility of high-performance (Rating4) however, these candidates also have at least 50% probability of attrition.\n",
    "\n"
   ]
  },
  {
   "cell_type": "code",
   "execution_count": null,
   "metadata": {},
   "outputs": [],
   "source": []
  },
  {
   "cell_type": "code",
   "execution_count": null,
   "metadata": {},
   "outputs": [],
   "source": []
  }
 ],
 "metadata": {
  "kernelspec": {
   "display_name": "Python 3",
   "language": "python",
   "name": "python3"
  },
  "language_info": {
   "codemirror_mode": {
    "name": "ipython",
    "version": 3
   },
   "file_extension": ".py",
   "mimetype": "text/x-python",
   "name": "python",
   "nbconvert_exporter": "python",
   "pygments_lexer": "ipython3",
   "version": "3.7.1"
  }
 },
 "nbformat": 4,
 "nbformat_minor": 2
}
